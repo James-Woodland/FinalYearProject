{
 "cells": [
  {
   "cell_type": "markdown",
   "metadata": {},
   "source": [
    "ML Function\n",
    "Random Forest\n",
    "Multi Layer Perceptron\n",
    "Support Vector Classifier\n",
    "KNN\n"
   ]
  },
  {
   "cell_type": "code",
   "execution_count": 10,
   "metadata": {},
   "outputs": [],
   "source": [
    "from sklearn.ensemble import RandomForestClassifier\n",
    "from sklearn.metrics import confusion_matrix\n",
    "from sklearn.metrics import precision_score\n",
    "from sklearn.model_selection import cross_validate\n",
    "import matplotlib.pyplot as plt\n",
    "from sklearn.neural_network import MLPClassifier\n",
    "from sklearn import svm\n",
    "from sklearn import neighbors\n",
    "from sklearn.tree import export_graphviz\n",
    "from subprocess import call\n",
    "from IPython.display import Image\n",
    "from subprocess import call\n",
    "\n",
    "def ML(X_train, X_test, Y_train, Y_test):\n",
    "    print('Random Forest')\n",
    "    RFclassifier = RandomForestClassifier(n_estimators=100)\n",
    "    RFclassifier.fit(X_train, Y_train.ravel())\n",
    "    Y_Pred_RF = RFclassifier.predict(X_test)\n",
    "    count = 0\n",
    "    M, N = X_test.shape\n",
    "    print(M)\n",
    "    for N in range(M):\n",
    "        if Y_Pred_RF[N] == Y_test[N]:\n",
    "            count = count + 1        \n",
    "    print(count)\n",
    "    accuracy = 0\n",
    "    accuracy = count/M\n",
    "    estimator = RFclassifier.estimators_[5]\n",
    "    export_graphviz(estimator, out_file='tree.dot', \n",
    "                feature_names = [\"mem\", \"temp\", \"tasks\", \"volt\", \"cpu\"],\n",
    "                class_names = [\"0\",\"1\"],\n",
    "                rounded = True, proportion = False, \n",
    "                precision = 2, filled = True)\n",
    "    call(['dot', '-Tpng', 'tree.dot', '-o', 'tree.png', '-Gdpi=600'])\n",
    "    Image(filename = 'tree.png')\n",
    "\n",
    "    print(accuracy)\n",
    "    print('')\n",
    "    print('')\n",
    "    print('MLP')\n",
    "    MLPclassifier = MLPClassifier(random_state = np.random.RandomState(), max_iter = 1000, shuffle = True)\n",
    "    MLPclassifier.fit(X_train, Y_train.ravel())\n",
    "    Y_Pred_MLP = MLPclassifier.predict(X_test)\n",
    "    count = 0\n",
    "    M, N = X_test.shape\n",
    "    print(M)\n",
    "    for N in range(M):\n",
    "        if Y_Pred_MLP[N] == Y_test[N]:\n",
    "            count = count + 1\n",
    "            \n",
    "    print(count)\n",
    "    accuracy = 0\n",
    "    accuracy = count/M\n",
    "    print(accuracy)\n",
    "    print('')\n",
    "    print('')\n",
    "    print('SVC')\n",
    "    SVCclassifier = svm.SVC(gamma = 'auto')\n",
    "    SVCclassifier.fit(X_train, Y_train.ravel())\n",
    "    Y_Pred_SVC = SVCclassifier.predict(X_test)\n",
    "    count = 0\n",
    "    M, N = X_test.shape\n",
    "    print(M)\n",
    "    for N in range(M):\n",
    "        if Y_Pred_SVC[N] == Y_test[N]:\n",
    "            count = count + 1\n",
    "            \n",
    "    print(count)\n",
    "    accuracy = 0\n",
    "    accuracy = count/M\n",
    "    print(accuracy)\n",
    "    print('')\n",
    "    print('')\n",
    "    print('KNN')\n",
    "    KNNclassifier = neighbors.KNeighborsClassifier()\n",
    "    KNNclassifier.fit(X_train, Y_train.ravel())\n",
    "    Y_Pred_KNN = KNNclassifier.predict(X_test)\n",
    "    count = 0\n",
    "    M, N = X_test.shape\n",
    "    print(M)\n",
    "    for N in range(M):\n",
    "        if Y_Pred_KNN[N] == Y_test[N]:\n",
    "            count = count + 1\n",
    "            \n",
    "    print(count)\n",
    "    accuracy = 0\n",
    "    accuracy = count/M\n",
    "    print(accuracy)"
   ]
  },
  {
   "cell_type": "markdown",
   "metadata": {},
   "source": [
    "Here I import the data sets, the Host data every 5 seconds and Netflows for each of the devices.\n",
    "The labels and data have been split in preperation for being fed into the classifiers\n",
    "in the NetwFlow data the start and end timestamps of each flow have been removed as I believe the ML would just use the timestamp to identify the anomolous and non-anomoulous flows. "
   ]
  },
  {
   "cell_type": "code",
   "execution_count": 5,
   "metadata": {},
   "outputs": [],
   "source": [
    "import os\n",
    "import pandas as pd\n",
    "import shutil\n",
    "import numpy as np\n",
    "from sklearn.preprocessing import StandardScaler\n",
    "\n",
    "\n",
    "def DataProcess(path):\n",
    "    HostDataFiles = os.listdir(path + \"/HostData-5s\")\n",
    "    NetFlowFiles = os.listdir(path + \"/NetFlow\")\n",
    "    Host = pd.DataFrame([])\n",
    "    NetFlow = pd.DataFrame([])\n",
    "    for j in HostDataFiles:\n",
    "        df = pd.read_csv(path+ \"/HostData-5s/\" + j)  \n",
    "        df = df[[\"mem\", \"temp\", \"time\", \"tasks\", \"volt\", \"cpu\", \"Label\"]]\n",
    "        del df['time'] \n",
    "        df = df[['Label'] + [c for c in df if c not in ['Label']]]\n",
    "        Host = Host.append(df)\n",
    "    for j in NetFlowFiles:\n",
    "        df = pd.read_csv(path + \"/NetFlow/\" + j, index_col=0 )    \n",
    "        del df['ts']\n",
    "        del df['te']\n",
    "        df = df[['Label'] + [c for c in df if c not in ['Label']]]\n",
    "        NetFlow = NetFlow.append(df)\n",
    "    HostLabel = np.array(Host.iloc[:, :1])\n",
    "    NetFlowLabel = np.array(NetFlow.iloc[:, :1])\n",
    "    scaler = StandardScaler()\n",
    "    HostData = np.array(Host.iloc[:, 1:])\n",
    "    da = np.array(HostData)\n",
    "    Host = scaler.fit_transform(HostData)\n",
    "    NetFlowData = np.array(NetFlow.iloc[:, 1:])  \n",
    "    return HostLabel, NetFlowLabel, HostData, NetFlowData\n"
   ]
  },
  {
   "cell_type": "markdown",
   "metadata": {},
   "source": [
    "MC Data"
   ]
  },
  {
   "cell_type": "code",
   "execution_count": 6,
   "metadata": {},
   "outputs": [
    {
     "name": "stdout",
     "output_type": "stream",
     "text": [
      "[[1.64324e+05 5.32000e+01 1.73000e+02 1.20000e+00 1.52000e+01]\n",
      " [1.64300e+05 5.26000e+01 1.73000e+02 1.20000e+00 1.47000e+01]\n",
      " [2.29336e+05 5.53000e+01 1.79000e+02 1.23130e+00 1.51000e+01]\n",
      " ...\n",
      " [4.29192e+05 5.75000e+01 1.80000e+02 1.20000e+00 2.06000e+01]\n",
      " [4.29656e+05 5.80000e+01 1.80000e+02 1.21250e+00 2.06000e+01]\n",
      " [4.29376e+05 5.69000e+01 1.80000e+02 1.20000e+00 2.06000e+01]]\n"
     ]
    }
   ],
   "source": [
    "from sklearn.model_selection import train_test_split\n",
    "\n",
    "HostTargets, NetFlowTargets, HostInputs, NetFlowInputs = DataProcess(\"C:/Users/james/Downloads/MC/MC\")\n",
    "\n",
    "print(HostInputs)\n",
    "\n",
    "X_train, X_test, Y_train, Y_test = train_test_split(HostInputs, HostTargets, test_size=0.25, random_state=42, shuffle=True)"
   ]
  },
  {
   "cell_type": "markdown",
   "metadata": {},
   "source": [
    "MC Host classifier Tests"
   ]
  },
  {
   "cell_type": "code",
   "execution_count": 11,
   "metadata": {},
   "outputs": [
    {
     "name": "stdout",
     "output_type": "stream",
     "text": [
      "Random Forest\n",
      "653\n",
      "652\n"
     ]
    },
    {
     "ename": "FileNotFoundError",
     "evalue": "[WinError 2] The system cannot find the file specified",
     "output_type": "error",
     "traceback": [
      "\u001b[1;31m---------------------------------------------------------------------------\u001b[0m",
      "\u001b[1;31mFileNotFoundError\u001b[0m                         Traceback (most recent call last)",
      "\u001b[1;32m~\\AppData\\Local\\Temp/ipykernel_36000/4255103321.py\u001b[0m in \u001b[0;36m<module>\u001b[1;34m\u001b[0m\n\u001b[1;32m----> 1\u001b[1;33m \u001b[0mML\u001b[0m\u001b[1;33m(\u001b[0m\u001b[0mX_train\u001b[0m\u001b[1;33m,\u001b[0m \u001b[0mX_test\u001b[0m\u001b[1;33m,\u001b[0m \u001b[0mY_train\u001b[0m\u001b[1;33m,\u001b[0m \u001b[0mY_test\u001b[0m\u001b[1;33m)\u001b[0m\u001b[1;33m\u001b[0m\u001b[1;33m\u001b[0m\u001b[0m\n\u001b[0m",
      "\u001b[1;32m~\\AppData\\Local\\Temp/ipykernel_36000/53604252.py\u001b[0m in \u001b[0;36mML\u001b[1;34m(X_train, X_test, Y_train, Y_test)\u001b[0m\n\u001b[0;32m     32\u001b[0m                 \u001b[0mrounded\u001b[0m \u001b[1;33m=\u001b[0m \u001b[1;32mTrue\u001b[0m\u001b[1;33m,\u001b[0m \u001b[0mproportion\u001b[0m \u001b[1;33m=\u001b[0m \u001b[1;32mFalse\u001b[0m\u001b[1;33m,\u001b[0m\u001b[1;33m\u001b[0m\u001b[1;33m\u001b[0m\u001b[0m\n\u001b[0;32m     33\u001b[0m                 precision = 2, filled = True)\n\u001b[1;32m---> 34\u001b[1;33m     \u001b[0mcall\u001b[0m\u001b[1;33m(\u001b[0m\u001b[1;33m[\u001b[0m\u001b[1;34m'dot'\u001b[0m\u001b[1;33m,\u001b[0m \u001b[1;34m'-Tpng'\u001b[0m\u001b[1;33m,\u001b[0m \u001b[1;34m'tree.dot'\u001b[0m\u001b[1;33m,\u001b[0m \u001b[1;34m'-o'\u001b[0m\u001b[1;33m,\u001b[0m \u001b[1;34m'tree.png'\u001b[0m\u001b[1;33m,\u001b[0m \u001b[1;34m'-Gdpi=600'\u001b[0m\u001b[1;33m]\u001b[0m\u001b[1;33m)\u001b[0m\u001b[1;33m\u001b[0m\u001b[1;33m\u001b[0m\u001b[0m\n\u001b[0m\u001b[0;32m     35\u001b[0m     \u001b[0mImage\u001b[0m\u001b[1;33m(\u001b[0m\u001b[0mfilename\u001b[0m \u001b[1;33m=\u001b[0m \u001b[1;34m'tree.png'\u001b[0m\u001b[1;33m)\u001b[0m\u001b[1;33m\u001b[0m\u001b[1;33m\u001b[0m\u001b[0m\n\u001b[0;32m     36\u001b[0m \u001b[1;33m\u001b[0m\u001b[0m\n",
      "\u001b[1;32mC:\\Program Files\\WindowsApps\\PythonSoftwareFoundation.Python.3.9_3.9.2800.0_x64__qbz5n2kfra8p0\\lib\\subprocess.py\u001b[0m in \u001b[0;36mcall\u001b[1;34m(timeout, *popenargs, **kwargs)\u001b[0m\n\u001b[0;32m    347\u001b[0m     \u001b[0mretcode\u001b[0m \u001b[1;33m=\u001b[0m \u001b[0mcall\u001b[0m\u001b[1;33m(\u001b[0m\u001b[1;33m[\u001b[0m\u001b[1;34m\"ls\"\u001b[0m\u001b[1;33m,\u001b[0m \u001b[1;34m\"-l\"\u001b[0m\u001b[1;33m]\u001b[0m\u001b[1;33m)\u001b[0m\u001b[1;33m\u001b[0m\u001b[1;33m\u001b[0m\u001b[0m\n\u001b[0;32m    348\u001b[0m     \"\"\"\n\u001b[1;32m--> 349\u001b[1;33m     \u001b[1;32mwith\u001b[0m \u001b[0mPopen\u001b[0m\u001b[1;33m(\u001b[0m\u001b[1;33m*\u001b[0m\u001b[0mpopenargs\u001b[0m\u001b[1;33m,\u001b[0m \u001b[1;33m**\u001b[0m\u001b[0mkwargs\u001b[0m\u001b[1;33m)\u001b[0m \u001b[1;32mas\u001b[0m \u001b[0mp\u001b[0m\u001b[1;33m:\u001b[0m\u001b[1;33m\u001b[0m\u001b[1;33m\u001b[0m\u001b[0m\n\u001b[0m\u001b[0;32m    350\u001b[0m         \u001b[1;32mtry\u001b[0m\u001b[1;33m:\u001b[0m\u001b[1;33m\u001b[0m\u001b[1;33m\u001b[0m\u001b[0m\n\u001b[0;32m    351\u001b[0m             \u001b[1;32mreturn\u001b[0m \u001b[0mp\u001b[0m\u001b[1;33m.\u001b[0m\u001b[0mwait\u001b[0m\u001b[1;33m(\u001b[0m\u001b[0mtimeout\u001b[0m\u001b[1;33m=\u001b[0m\u001b[0mtimeout\u001b[0m\u001b[1;33m)\u001b[0m\u001b[1;33m\u001b[0m\u001b[1;33m\u001b[0m\u001b[0m\n",
      "\u001b[1;32mC:\\Program Files\\WindowsApps\\PythonSoftwareFoundation.Python.3.9_3.9.2800.0_x64__qbz5n2kfra8p0\\lib\\subprocess.py\u001b[0m in \u001b[0;36m__init__\u001b[1;34m(self, args, bufsize, executable, stdin, stdout, stderr, preexec_fn, close_fds, shell, cwd, env, universal_newlines, startupinfo, creationflags, restore_signals, start_new_session, pass_fds, user, group, extra_groups, encoding, errors, text, umask)\u001b[0m\n\u001b[0;32m    949\u001b[0m                             encoding=encoding, errors=errors)\n\u001b[0;32m    950\u001b[0m \u001b[1;33m\u001b[0m\u001b[0m\n\u001b[1;32m--> 951\u001b[1;33m             self._execute_child(args, executable, preexec_fn, close_fds,\n\u001b[0m\u001b[0;32m    952\u001b[0m                                 \u001b[0mpass_fds\u001b[0m\u001b[1;33m,\u001b[0m \u001b[0mcwd\u001b[0m\u001b[1;33m,\u001b[0m \u001b[0menv\u001b[0m\u001b[1;33m,\u001b[0m\u001b[1;33m\u001b[0m\u001b[1;33m\u001b[0m\u001b[0m\n\u001b[0;32m    953\u001b[0m                                 \u001b[0mstartupinfo\u001b[0m\u001b[1;33m,\u001b[0m \u001b[0mcreationflags\u001b[0m\u001b[1;33m,\u001b[0m \u001b[0mshell\u001b[0m\u001b[1;33m,\u001b[0m\u001b[1;33m\u001b[0m\u001b[1;33m\u001b[0m\u001b[0m\n",
      "\u001b[1;32mC:\\Program Files\\WindowsApps\\PythonSoftwareFoundation.Python.3.9_3.9.2800.0_x64__qbz5n2kfra8p0\\lib\\subprocess.py\u001b[0m in \u001b[0;36m_execute_child\u001b[1;34m(self, args, executable, preexec_fn, close_fds, pass_fds, cwd, env, startupinfo, creationflags, shell, p2cread, p2cwrite, c2pread, c2pwrite, errread, errwrite, unused_restore_signals, unused_gid, unused_gids, unused_uid, unused_umask, unused_start_new_session)\u001b[0m\n\u001b[0;32m   1418\u001b[0m             \u001b[1;31m# Start the process\u001b[0m\u001b[1;33m\u001b[0m\u001b[1;33m\u001b[0m\u001b[0m\n\u001b[0;32m   1419\u001b[0m             \u001b[1;32mtry\u001b[0m\u001b[1;33m:\u001b[0m\u001b[1;33m\u001b[0m\u001b[1;33m\u001b[0m\u001b[0m\n\u001b[1;32m-> 1420\u001b[1;33m                 hp, ht, pid, tid = _winapi.CreateProcess(executable, args,\n\u001b[0m\u001b[0;32m   1421\u001b[0m                                          \u001b[1;31m# no special security\u001b[0m\u001b[1;33m\u001b[0m\u001b[1;33m\u001b[0m\u001b[0m\n\u001b[0;32m   1422\u001b[0m                                          \u001b[1;32mNone\u001b[0m\u001b[1;33m,\u001b[0m \u001b[1;32mNone\u001b[0m\u001b[1;33m,\u001b[0m\u001b[1;33m\u001b[0m\u001b[1;33m\u001b[0m\u001b[0m\n",
      "\u001b[1;31mFileNotFoundError\u001b[0m: [WinError 2] The system cannot find the file specified"
     ]
    }
   ],
   "source": [
    "ML(X_train, X_test, Y_train, Y_test)"
   ]
  },
  {
   "cell_type": "code",
   "execution_count": null,
   "metadata": {},
   "outputs": [],
   "source": [
    "import sklearn.cluster\n",
    "import sklearn.datasets\n",
    "import sklearn.decomposition\n",
    "import matplotlib.pyplot as plt\n",
    "from matplotlib.colors import ListedColormap\n",
    "\n",
    "pca = sklearn.decomposition.PCA(n_components=2)\n",
    "compressed = pca.fit_transform(HostInputs)\n",
    "colors = ListedColormap(['g','r'])\n",
    "classes = [0,1]\n",
    "plt.figure()\n",
    "scatter = plt.scatter(compressed[:,0], compressed[:,1], c=HostTargets, cmap=colors, s=4)\n",
    "plt.legend(handles=scatter.legend_elements()[0], labels=classes)\n",
    "plt.title(\"PCA projection\")\n",
    "plt.show()\n",
    "\n"
   ]
  },
  {
   "cell_type": "markdown",
   "metadata": {},
   "source": [
    "SC Data"
   ]
  },
  {
   "cell_type": "code",
   "execution_count": null,
   "metadata": {},
   "outputs": [],
   "source": [
    "from sklearn.model_selection import train_test_split\n",
    "\n",
    "HostTargets, NetFlowTargets, HostInputs, NetFlowInputs = DataProcess(\"C:/Users/james/Downloads/SC/SC\")\n",
    "\n",
    "X_train, X_test, Y_train, Y_test = train_test_split(HostInputs, HostTargets, test_size=0.25, random_state=42, shuffle=True)"
   ]
  },
  {
   "cell_type": "markdown",
   "metadata": {},
   "source": [
    "SC Host Classifier Tests"
   ]
  },
  {
   "cell_type": "code",
   "execution_count": null,
   "metadata": {},
   "outputs": [],
   "source": [
    "ML(X_train, X_test, Y_train, Y_test)"
   ]
  },
  {
   "cell_type": "code",
   "execution_count": null,
   "metadata": {},
   "outputs": [
    {
     "data": {
      "image/png": "[encoded data removed]",
      "text/plain": [
       "<Figure size 432x288 with 1 Axes>"
      ]
     },
     "metadata": {
      "needs_background": "light"
     },
     "output_type": "display_data"
    }
   ],
   "source": [
    "import sklearn.cluster\n",
    "import sklearn.datasets\n",
    "import sklearn.decomposition\n",
    "import matplotlib.pyplot as plt\n",
    "from matplotlib.colors import ListedColormap\n",
    "\n",
    "pca = sklearn.decomposition.PCA(n_components=2)\n",
    "compressed = pca.fit_transform(HostInputs)\n",
    "colors = ListedColormap(['g','r'])\n",
    "classes = [0,1]\n",
    "plt.figure()\n",
    "scatter = plt.scatter(compressed[:,0], compressed[:,1], c=HostTargets, cmap=colors, s=4)\n",
    "plt.legend(handles=scatter.legend_elements()[0], labels=classes)\n",
    "plt.title(\"PCA projection\")\n",
    "plt.show()\n",
    "\n"
   ]
  },
  {
   "cell_type": "markdown",
   "metadata": {},
   "source": [
    "ST Data"
   ]
  },
  {
   "cell_type": "code",
   "execution_count": null,
   "metadata": {},
   "outputs": [],
   "source": [
    "from sklearn.model_selection import train_test_split\n",
    "\n",
    "HostTargets, NetFlowTargets, HostInputs, NetFlowInputs = DataProcess(\"C:/Users/james/Downloads/ST/ST\")\n",
    "\n",
    "X_train, X_test, Y_train, Y_test = train_test_split(HostInputs, HostTargets, test_size=0.25, random_state=42, shuffle=True)"
   ]
  },
  {
   "cell_type": "markdown",
   "metadata": {},
   "source": [
    "Host Classifier Tests"
   ]
  },
  {
   "cell_type": "code",
   "execution_count": null,
   "metadata": {},
   "outputs": [
    {
     "name": "stdout",
     "output_type": "stream",
     "text": [
      "Random Forest\n",
      "682\n",
      "681\n",
      "0.998533724340176\n",
      "\n",
      "\n",
      "MLP\n",
      "682\n",
      "517\n",
      "0.7580645161290323\n",
      "\n",
      "\n",
      "SVC\n",
      "682\n",
      "547\n",
      "0.8020527859237536\n",
      "\n",
      "\n",
      "KNN\n",
      "682\n",
      "615\n",
      "0.9017595307917888\n"
     ]
    }
   ],
   "source": [
    "ML(X_train, X_test, Y_train, Y_test)"
   ]
  },
  {
   "cell_type": "code",
   "execution_count": null,
   "metadata": {},
   "outputs": [
    {
     "data": {
      "image/png": "[encoded data removed]",
      "text/plain": [
       "<Figure size 432x288 with 1 Axes>"
      ]
     },
     "metadata": {
      "needs_background": "light"
     },
     "output_type": "display_data"
    }
   ],
   "source": [
    "import sklearn.cluster\n",
    "import sklearn.datasets\n",
    "import sklearn.decomposition\n",
    "import matplotlib.pyplot as plt\n",
    "from matplotlib.colors import ListedColormap\n",
    "\n",
    "pca = sklearn.decomposition.PCA(n_components=2)\n",
    "compressed = pca.fit_transform(HostInputs)\n",
    "colors = ListedColormap(['g','r'])\n",
    "classes = [0,1]\n",
    "plt.figure()\n",
    "scatter = plt.scatter(compressed[:,0], compressed[:,1], c=HostTargets, cmap=colors, s=4)\n",
    "plt.legend(handles=scatter.legend_elements()[0], labels=classes)\n",
    "plt.title(\"PCA projection\")\n",
    "plt.show()\n",
    "\n"
   ]
  }
 ],
 "metadata": {
  "interpreter": {
   "hash": "5ff771dfaab6c6cf3dd91904d2a6f8012eef921a8c1136cd671f64117f449a5e"
  },
  "kernelspec": {
   "display_name": "Python 3.10.0 64-bit",
   "language": "python",
   "name": "python3"
  },
  "language_info": {
   "codemirror_mode": {
    "name": "ipython",
    "version": 3
   },
   "file_extension": ".py",
   "mimetype": "text/x-python",
   "name": "python",
   "nbconvert_exporter": "python",
   "pygments_lexer": "ipython3",
   "version": "3.9.10"
  },
  "orig_nbformat": 4
 },
 "nbformat": 4,
 "nbformat_minor": 2
}
